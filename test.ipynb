{
 "cells": [
  {
   "cell_type": "code",
   "execution_count": 1,
   "metadata": {},
   "outputs": [],
   "source": [
    "from langchain import hub\n",
    "from langchain.agents import AgentExecutor, create_react_agent\n",
    "from langchain_community.tools.tavily_search import TavilySearchResults\n",
    "from langchain_community.chat_models import ChatCohere"
   ]
  },
  {
   "cell_type": "code",
   "execution_count": 2,
   "metadata": {},
   "outputs": [],
   "source": [
    "from langchain.pydantic_v1 import BaseModel, Field\n",
    "from langchain.tools import BaseTool, StructuredTool, tool\n",
    "import langchain\n",
    "langchain.verbose=True"
   ]
  },
  {
   "cell_type": "code",
   "execution_count": 3,
   "metadata": {},
   "outputs": [
    {
     "data": {
      "text/plain": [
       "True"
      ]
     },
     "execution_count": 3,
     "metadata": {},
     "output_type": "execute_result"
    }
   ],
   "source": [
    "from dotenv import load_dotenv\n",
    "import os\n",
    "\n",
    "import dotenv\n",
    "dotenv.load_dotenv()"
   ]
  },
  {
   "cell_type": "code",
   "execution_count": 5,
   "metadata": {},
   "outputs": [],
   "source": [
    "COHERE_API_KEY = os.environ[\"COHERE_API_KEY\"]"
   ]
  },
  {
   "cell_type": "code",
   "execution_count": 6,
   "metadata": {},
   "outputs": [],
   "source": [
    "cohere = ChatCohere(model=\"command\", temperature = 0, streaming=True, verbose=True)"
   ]
  },
  {
   "cell_type": "code",
   "execution_count": 7,
   "metadata": {},
   "outputs": [],
   "source": [
    "from langchain.retrievers.tavily_search_api import TavilySearchAPIRetriever\n",
    "from langchain.retrievers import CohereRagRetriever\n",
    "from langchain_community.chat_models import ChatCohere\n",
    "from langchain_core.documents import Document"
   ]
  },
  {
   "cell_type": "code",
   "execution_count": 26,
   "metadata": {},
   "outputs": [],
   "source": [
    "from tools import *"
   ]
  },
  {
   "cell_type": "code",
   "execution_count": 27,
   "metadata": {},
   "outputs": [],
   "source": [
    "tools = [buy_stock, sell_stock, mean_reversion, rag]"
   ]
  },
  {
   "cell_type": "code",
   "execution_count": 39,
   "metadata": {},
   "outputs": [],
   "source": [
    "from langchain.agents import create_structured_chat_agent"
   ]
  },
  {
   "cell_type": "code",
   "execution_count": 40,
   "metadata": {},
   "outputs": [],
   "source": [
    "prompt = hub.pull(\"kenwu/react-json\")"
   ]
  },
  {
   "cell_type": "code",
   "execution_count": 41,
   "metadata": {},
   "outputs": [],
   "source": [
    "# Construct the JSON agent\n",
    "agent = create_structured_chat_agent(cohere, tools, prompt)"
   ]
  },
  {
   "cell_type": "code",
   "execution_count": 42,
   "metadata": {},
   "outputs": [
    {
     "name": "stdout",
     "output_type": "stream",
     "text": [
      "\n",
      "\n",
      "\u001b[1m> Entering new AgentExecutor chain...\u001b[0m\n"
     ]
    },
    {
     "name": "stderr",
     "output_type": "stream",
     "text": [
      "/opt/homebrew/Caskroom/miniforge/base/envs/algoherence/lib/python3.12/site-packages/yfinance/utils.py:775: FutureWarning: The 'unit' keyword in TimedeltaIndex construction is deprecated and will be removed in a future version. Use pd.to_timedelta instead.\n",
      "  df.index += _pd.TimedeltaIndex(dst_error_hours, 'h')\n",
      "[*********************100%%**********************]  1 of 1 completed"
     ]
    },
    {
     "name": "stdout",
     "output_type": "stream",
     "text": [
      "\u001b[32;1m\u001b[1;3mThe mean reversion algorithm is a trading strategy that involves identifying a stock that has deviated from its average price over a period and then buying or selling the stock accordingly. \n",
      "\n",
      "Based on the provided parameters, the action is to use the mean_reversion tool with the specified parameters:\n",
      "```\n",
      "{\n",
      "  \"action\": \"mean_reversion\",\n",
      "  \"action_input\": {\n",
      "    \"ticker\": \"MSFT\",\n",
      "    \"shares\": 10,\n",
      "    \"mean_frame\": 20,\n",
      "    \"backtest_frame\": 365\n",
      "  }\n",
      "}\n",
      "```\n",
      "\n",
      "The tool will calculate the mean of the stock price over the past 20 days and then backtest the algorithm on the price data from the previous 365 days to determine whether it would have resulted in a profit or loss. \n",
      "\n",
      "It will then return the result to the user, which will be either an indication to buy or sell the stock, along with an estimated investment period and profit.\u001b[0m"
     ]
    },
    {
     "name": "stderr",
     "output_type": "stream",
     "text": [
      "\n"
     ]
    },
    {
     "name": "stdout",
     "output_type": "stream",
     "text": [
      "\u001b[38;5;200m\u001b[1;3m\n",
      "Observation: Estimated future profit for MSFT over 1 year(s) with 10 shares: $631.28\n",
      "\u001b[0m"
     ]
    },
    {
     "name": "stderr",
     "output_type": "stream",
     "text": [
      "/opt/homebrew/Caskroom/miniforge/base/envs/algoherence/lib/python3.12/site-packages/yfinance/utils.py:775: FutureWarning: The 'unit' keyword in TimedeltaIndex construction is deprecated and will be removed in a future version. Use pd.to_timedelta instead.\n",
      "  df.index += _pd.TimedeltaIndex(dst_error_hours, 'h')\n",
      "[*********************100%%**********************]  1 of 1 completed"
     ]
    },
    {
     "name": "stdout",
     "output_type": "stream",
     "text": [
      "\u001b[32;1m\u001b[1;3mThought: The output from the previous action indicates that the suggested trade would result in a profit of $631.28 over the next year. This is an indication to buy the stock, according to the mean reversion strategy. \n",
      "Action:\n",
      "```\n",
      "{\n",
      "  \"action\": \"mean_reversion\",\n",
      "  \"action_input\": {\n",
      "    \"ticker\": \"MSFT\",\n",
      "    \"shares\": 10,\n",
      "    \"mean_frame\": 20,\n",
      "    \"backtest_frame\": 365\n",
      "  }\n",
      "}\n",
      "```\u001b[0m\u001b[38;5;200m\u001b[1;3m\n",
      "Observation: Estimated future profit for MSFT over 1 year(s) with 10 shares: $631.28\n",
      "\u001b[0m"
     ]
    },
    {
     "name": "stderr",
     "output_type": "stream",
     "text": [
      "\n",
      "/opt/homebrew/Caskroom/miniforge/base/envs/algoherence/lib/python3.12/site-packages/yfinance/utils.py:775: FutureWarning: The 'unit' keyword in TimedeltaIndex construction is deprecated and will be removed in a future version. Use pd.to_timedelta instead.\n",
      "  df.index += _pd.TimedeltaIndex(dst_error_hours, 'h')\n",
      "[*********************100%%**********************]  1 of 1 completed"
     ]
    },
    {
     "name": "stdout",
     "output_type": "stream",
     "text": [
      "\u001b[32;1m\u001b[1;3mThought: The output from the previous action indicates that the suggested trade would result in a profit of $631.28 over the next year. This is an indication to buy the stock, according to the mean reversion strategy. \n",
      "Action:\n",
      "```\n",
      "{\n",
      "  \"action\": \"mean_reversion\",\n",
      "  \"action_input\": {\n",
      "    \"ticker\": \"MSFT\",\n",
      "    \"shares\": 10,\n",
      "    \"mean_frame\": 20,\n",
      "    \"backtest_frame\": 365\n",
      "  }\n",
      "}\n",
      "```\u001b[0m\u001b[38;5;200m\u001b[1;3m\n",
      "Observation: Estimated future profit for MSFT over 1 year(s) with 10 shares: $631.28\n",
      "\u001b[0m"
     ]
    },
    {
     "name": "stderr",
     "output_type": "stream",
     "text": [
      "\n"
     ]
    },
    {
     "name": "stdout",
     "output_type": "stream",
     "text": [
      "\u001b[32;1m\u001b[1;3mThought: The action cycle has reached its conclusion with the final answer based on the provided tool outputs. The next step is to provide the final answer based on the actions and their associated thoughts. \n",
      "Action:\n",
      "```\n",
      "{\n",
      "\"action\": \"Final Answer\",\n",
      "\"action_input\": \"According to the mean reversion algorithm, buying 10 shares of MSFT would result in a profit of $631.28 over the next year.\"\n",
      "}\n",
      "```\u001b[0m\n",
      "\n",
      "\u001b[1m> Finished chain.\u001b[0m\n"
     ]
    },
    {
     "data": {
      "text/plain": [
       "{'input': 'Can you run the mean reversion algorithm on 10 shares MSFT with mean frame of 20 and backtest frame of 365?\\n',\n",
       " 'output': 'According to the mean reversion algorithm, buying 10 shares of MSFT would result in a profit of $631.28 over the next year.'}"
      ]
     },
     "execution_count": 42,
     "metadata": {},
     "output_type": "execute_result"
    }
   ],
   "source": [
    "# Create an agent executor by passing in the agent and tools\n",
    "agent_executor = AgentExecutor(\n",
    "    agent=agent, \n",
    "    tools=tools,\n",
    "    verbose=True,\n",
    "    max_iterations=5,\n",
    "    handle_parsing_errors=True\n",
    ")\n",
    "\n",
    "agent_executor.invoke({\"input\": \"Can you run the mean reversion algorithm on 10 shares MSFT with mean frame of 20 and backtest frame of 365?\\n\"})"
   ]
  },
  {
   "cell_type": "code",
   "execution_count": 43,
   "metadata": {},
   "outputs": [
    {
     "name": "stdout",
     "output_type": "stream",
     "text": [
      "\n",
      "\n",
      "\u001b[1m> Entering new AgentExecutor chain...\u001b[0m\n",
      "\u001b[32;1m\u001b[1;3mThought: The ticker symbol for Microsoft is \"MSFT\". \n",
      "\n",
      "Action: \n",
      "\n",
      "```\n",
      "{\n",
      " \"action\": \"buy_stock\",\n",
      " \"action_input\": {\n",
      " \"ticker\": \"MSFT\",\n",
      " \"amount\": 10\n",
      " }\n",
      "}\n",
      "```\u001b[0m\u001b[36;1m\u001b[1;3m\n",
      "Observation: 10 shares of MSFT is BOUGHT. ACTION COMPLETED\n",
      "\u001b[0m\u001b[32;1m\u001b[1;3mThought: The action to buy the MSFT shares has been completed according to the given instructions. \n",
      "Action: \n",
      "\n",
      "```\n",
      "{\n",
      " \"action\": \"Final Answer\",\n",
      " \"action_input\": \"10 shares of MSFT bought.\"\n",
      "}\n",
      "```\u001b[0m\n",
      "\n",
      "\u001b[1m> Finished chain.\u001b[0m\n"
     ]
    },
    {
     "data": {
      "text/plain": [
       "{'input': 'Buy 10 shares of MSFT\\n', 'output': '10 shares of MSFT bought.'}"
      ]
     },
     "execution_count": 43,
     "metadata": {},
     "output_type": "execute_result"
    }
   ],
   "source": [
    "agent_executor.invoke({\"input\": \"Buy 10 shares of MSFT\\n\"})"
   ]
  }
 ],
 "metadata": {
  "kernelspec": {
   "display_name": "algoherence",
   "language": "python",
   "name": "python3"
  },
  "language_info": {
   "codemirror_mode": {
    "name": "ipython",
    "version": 3
   },
   "file_extension": ".py",
   "mimetype": "text/x-python",
   "name": "python",
   "nbconvert_exporter": "python",
   "pygments_lexer": "ipython3",
   "version": "3.12.2"
  }
 },
 "nbformat": 4,
 "nbformat_minor": 2
}
